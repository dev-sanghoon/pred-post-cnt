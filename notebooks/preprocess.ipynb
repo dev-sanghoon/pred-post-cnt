{
 "cells": [
  {
   "cell_type": "code",
   "execution_count": 1,
   "metadata": {},
   "outputs": [],
   "source": [
    "import pandas as pd\n",
    "from sklearn.preprocessing import LabelEncoder"
   ]
  },
  {
   "cell_type": "code",
   "execution_count": 2,
   "metadata": {},
   "outputs": [
    {
     "name": "stdout",
     "output_type": "stream",
     "text": [
      "<class 'pandas.core.frame.DataFrame'>\n",
      "RangeIndex: 123930 entries, 0 to 123929\n",
      "Data columns (total 12 columns):\n",
      " #   Column      Non-Null Count   Dtype         \n",
      "---  ------      --------------   -----         \n",
      " 0   일시          123930 non-null  datetime64[ns]\n",
      " 1   지점          123930 non-null  object        \n",
      " 2   폭염여부(O/X)   123930 non-null  object        \n",
      " 3   최고체감온도(°C)  118823 non-null  float64       \n",
      " 4   최고기온(°C)    122863 non-null  float64       \n",
      " 5   평균기온(°C)    122851 non-null  float64       \n",
      " 6   최저기온(°C)    122858 non-null  float64       \n",
      " 7   평균상대습도(%)   119752 non-null  float64       \n",
      " 8   폭염특보(O/X)   123930 non-null  object        \n",
      " 9   폭염영향예보(단계)  123930 non-null  object        \n",
      " 10  열대야(O/X)    123930 non-null  object        \n",
      " 11  자외선지수(단계)   123930 non-null  object        \n",
      "dtypes: datetime64[ns](1), float64(5), object(6)\n",
      "memory usage: 11.3+ MB\n",
      "None\n"
     ]
    },
    {
     "data": {
      "text/html": [
       "<div>\n",
       "<style scoped>\n",
       "    .dataframe tbody tr th:only-of-type {\n",
       "        vertical-align: middle;\n",
       "    }\n",
       "\n",
       "    .dataframe tbody tr th {\n",
       "        vertical-align: top;\n",
       "    }\n",
       "\n",
       "    .dataframe thead th {\n",
       "        text-align: right;\n",
       "    }\n",
       "</style>\n",
       "<table border=\"1\" class=\"dataframe\">\n",
       "  <thead>\n",
       "    <tr style=\"text-align: right;\">\n",
       "      <th></th>\n",
       "      <th>일시</th>\n",
       "      <th>지점</th>\n",
       "      <th>폭염여부(O/X)</th>\n",
       "      <th>최고체감온도(°C)</th>\n",
       "      <th>최고기온(°C)</th>\n",
       "      <th>평균기온(°C)</th>\n",
       "      <th>최저기온(°C)</th>\n",
       "      <th>평균상대습도(%)</th>\n",
       "      <th>폭염특보(O/X)</th>\n",
       "      <th>폭염영향예보(단계)</th>\n",
       "      <th>열대야(O/X)</th>\n",
       "      <th>자외선지수(단계)</th>\n",
       "    </tr>\n",
       "  </thead>\n",
       "  <tbody>\n",
       "    <tr>\n",
       "      <th>0</th>\n",
       "      <td>2019-05-01</td>\n",
       "      <td>동두천(98)</td>\n",
       "      <td>X</td>\n",
       "      <td>23.5</td>\n",
       "      <td>25.4</td>\n",
       "      <td>16.6</td>\n",
       "      <td>9.1</td>\n",
       "      <td>55.3</td>\n",
       "      <td>X</td>\n",
       "      <td></td>\n",
       "      <td>X</td>\n",
       "      <td>낮음</td>\n",
       "    </tr>\n",
       "    <tr>\n",
       "      <th>1</th>\n",
       "      <td>2019-05-01</td>\n",
       "      <td>북춘천(93)</td>\n",
       "      <td>X</td>\n",
       "      <td>22.0</td>\n",
       "      <td>25.2</td>\n",
       "      <td>16.5</td>\n",
       "      <td>7.7</td>\n",
       "      <td>56.3</td>\n",
       "      <td>X</td>\n",
       "      <td></td>\n",
       "      <td>X</td>\n",
       "      <td>높음</td>\n",
       "    </tr>\n",
       "    <tr>\n",
       "      <th>2</th>\n",
       "      <td>2019-05-01</td>\n",
       "      <td>함안(920)</td>\n",
       "      <td>X</td>\n",
       "      <td>24.6</td>\n",
       "      <td>25.1</td>\n",
       "      <td>16.2</td>\n",
       "      <td>10.8</td>\n",
       "      <td>76.0</td>\n",
       "      <td>X</td>\n",
       "      <td></td>\n",
       "      <td>X</td>\n",
       "      <td>낮음</td>\n",
       "    </tr>\n",
       "  </tbody>\n",
       "</table>\n",
       "</div>"
      ],
      "text/plain": [
       "          일시       지점 폭염여부(O/X)  최고체감온도(°C)  최고기온(°C)  평균기온(°C)  최저기온(°C)  \\\n",
       "0 2019-05-01  동두천(98)         X        23.5      25.4      16.6       9.1   \n",
       "1 2019-05-01  북춘천(93)         X        22.0      25.2      16.5       7.7   \n",
       "2 2019-05-01  함안(920)         X        24.6      25.1      16.2      10.8   \n",
       "\n",
       "   평균상대습도(%) 폭염특보(O/X) 폭염영향예보(단계) 열대야(O/X) 자외선지수(단계)  \n",
       "0       55.3         X                   X        낮음  \n",
       "1       56.3         X                   X        높음  \n",
       "2       76.0         X                   X        낮음  "
      ]
     },
     "execution_count": 2,
     "metadata": {},
     "output_type": "execute_result"
    }
   ],
   "source": [
    "raw_df = pd.read_csv(\"../data/raw_heat.csv\", parse_dates=[\"일시\"])\n",
    "print(raw_df.info())\n",
    "raw_df.head(3)"
   ]
  },
  {
   "cell_type": "code",
   "execution_count": 3,
   "metadata": {},
   "outputs": [],
   "source": [
    "# 편의를 위해 컬럼명을 변수에 할당\n",
    "date_info, place, is_heat, top_stmp, top_tmp, avg_tmp, bot_tmp, avg_hum, is_alarm, heat_lv, is_trop, uv_lv = raw_df.columns"
   ]
  },
  {
   "cell_type": "code",
   "execution_count": 4,
   "metadata": {},
   "outputs": [
    {
     "data": {
      "text/html": [
       "<div>\n",
       "<style scoped>\n",
       "    .dataframe tbody tr th:only-of-type {\n",
       "        vertical-align: middle;\n",
       "    }\n",
       "\n",
       "    .dataframe tbody tr th {\n",
       "        vertical-align: top;\n",
       "    }\n",
       "\n",
       "    .dataframe thead th {\n",
       "        text-align: right;\n",
       "    }\n",
       "</style>\n",
       "<table border=\"1\" class=\"dataframe\">\n",
       "  <thead>\n",
       "    <tr style=\"text-align: right;\">\n",
       "      <th></th>\n",
       "      <th>일시</th>\n",
       "      <th>지점</th>\n",
       "      <th>폭염여부(O/X)</th>\n",
       "      <th>최고체감온도(°C)</th>\n",
       "      <th>최고기온(°C)</th>\n",
       "      <th>평균기온(°C)</th>\n",
       "      <th>최저기온(°C)</th>\n",
       "      <th>평균상대습도(%)</th>\n",
       "      <th>폭염특보(O/X)</th>\n",
       "      <th>폭염영향예보(단계)</th>\n",
       "      <th>열대야(O/X)</th>\n",
       "      <th>자외선지수(단계)</th>\n",
       "    </tr>\n",
       "  </thead>\n",
       "  <tbody>\n",
       "    <tr>\n",
       "      <th>0</th>\n",
       "      <td>2019-05-01</td>\n",
       "      <td>0</td>\n",
       "      <td>0.0</td>\n",
       "      <td>NaN</td>\n",
       "      <td>23.6</td>\n",
       "      <td>15.6</td>\n",
       "      <td>6.8</td>\n",
       "      <td>NaN</td>\n",
       "      <td>0.0</td>\n",
       "      <td>1.0</td>\n",
       "      <td>0.0</td>\n",
       "      <td>1.0</td>\n",
       "    </tr>\n",
       "    <tr>\n",
       "      <th>1</th>\n",
       "      <td>2019-05-01</td>\n",
       "      <td>1</td>\n",
       "      <td>0.0</td>\n",
       "      <td>21.3</td>\n",
       "      <td>21.1</td>\n",
       "      <td>15.1</td>\n",
       "      <td>8.5</td>\n",
       "      <td>75.0</td>\n",
       "      <td>0.0</td>\n",
       "      <td>1.0</td>\n",
       "      <td>0.0</td>\n",
       "      <td>1.0</td>\n",
       "    </tr>\n",
       "    <tr>\n",
       "      <th>2</th>\n",
       "      <td>2019-05-01</td>\n",
       "      <td>2</td>\n",
       "      <td>0.0</td>\n",
       "      <td>21.6</td>\n",
       "      <td>20.9</td>\n",
       "      <td>14.6</td>\n",
       "      <td>10.6</td>\n",
       "      <td>67.5</td>\n",
       "      <td>0.0</td>\n",
       "      <td>1.0</td>\n",
       "      <td>0.0</td>\n",
       "      <td>1.0</td>\n",
       "    </tr>\n",
       "  </tbody>\n",
       "</table>\n",
       "</div>"
      ],
      "text/plain": [
       "          일시  지점  폭염여부(O/X)  최고체감온도(°C)  최고기온(°C)  평균기온(°C)  최저기온(°C)  \\\n",
       "0 2019-05-01   0        0.0         NaN      23.6      15.6       6.8   \n",
       "1 2019-05-01   1        0.0        21.3      21.1      15.1       8.5   \n",
       "2 2019-05-01   2        0.0        21.6      20.9      14.6      10.6   \n",
       "\n",
       "   평균상대습도(%)  폭염특보(O/X)  폭염영향예보(단계)  열대야(O/X)  자외선지수(단계)  \n",
       "0        NaN        0.0         1.0       0.0        1.0  \n",
       "1       75.0        0.0         1.0       0.0        1.0  \n",
       "2       67.5        0.0         1.0       0.0        1.0  "
      ]
     },
     "execution_count": 4,
     "metadata": {},
     "output_type": "execute_result"
    }
   ],
   "source": [
    "def get_label_encoded(target_df, target_col):\n",
    "    df = target_df.copy()\n",
    "    le = LabelEncoder()\n",
    "    df[target_col] = le.fit_transform(target_df[target_col])\n",
    "    return df, le\n",
    "\n",
    "def get_label_applied(target_df, target_col, info_dict):\n",
    "    df = target_df.copy()\n",
    "    df[target_col] = target_df[target_col].map(info_dict)\n",
    "    return df\n",
    "\n",
    "le_df, le = get_label_encoded(raw_df, place)\n",
    "\n",
    "for col in is_heat, is_alarm, is_trop:\n",
    "    le_df = get_label_applied(le_df, col, { \"X\": 0.0, \"O\": 1.0 })\n",
    "\n",
    "le_df = get_label_applied(le_df, heat_lv, { \" \": 1.0, \"관심\": 2.0, \"주의\": 3.0, \"경고\": 4.0, \"심각\": 5.0 })\n",
    "le_df = get_label_applied(le_df, uv_lv, { \"낮음\": 1.0, \"보통\": 2.0, \"높음\": 3.0, \"매우높음\": 4.0, \"위험\": 5.0 })\n",
    "\n",
    "le_df = le_df.sort_values([date_info, place]).reset_index(drop=True)\n",
    "le_df.head(3)"
   ]
  },
  {
   "cell_type": "code",
   "execution_count": 5,
   "metadata": {},
   "outputs": [
    {
     "data": {
      "text/plain": [
       "array(['가평조종(505)', '간성(517)', '강진군(259)', '거제(294)', '거창(284)',\n",
       "       '경기광주(546)', '경산(827)', '경주시(283)', '계룡(636)', '고령(812)',\n",
       "       '고성(918)', '고양(540)', '고창(172)', '고흥(262)', '곡성(768)', '공주(612)',\n",
       "       '과천(590)', '광명(437)', '광양읍(713)', '광주(156)', '괴산(603)', '구례(709)',\n",
       "       '구리(569)', '구미(279)', '군산(140)', '군위(823)', '군포(438)', '금산(238)',\n",
       "       '김제(737)', '김천(822)', '김포(441)', '김해시(253)', '나주(710)', '남양주(541)',\n",
       "       '남원(247)', '남해(295)', '논산(615)', '단양(601)', '담양(706)', '당진(616)',\n",
       "       '대구(143)', '대전(133)', '동두천(98)', '동해(106)', '목포(165)', '무안(699)',\n",
       "       '무주(701)', '문경(273)', '밀양(288)', '보령(235)', '보성(732)', '보은(226)',\n",
       "       '봉화(271)', '부산(159)', '부안(243)', '부여(236)', '부천(433)', '북강릉(104)',\n",
       "       '북춘천(93)', '산청(289)', '삼척(876)', '삼천포(907)', '상주(137)', '서산(129)',\n",
       "       '서울(108)', '서천(614)', '성남(572)', '성주(810)', '세종(239)', '속초(90)',\n",
       "       '수원(119)', '순창군(254)', '순천시(712)', '시흥(565)', '아산(634)', '안동(136)',\n",
       "       '안산(545)', '안성(516)', '안양(434)', '압해도(789)', '양구(556)', '양산시(257)',\n",
       "       '양양(670)', '양주(598)', '양평(202)', '여수(168)', '여주(548)', '연천청산(652)',\n",
       "       '영광군(252)', '영덕(277)', '영암(731)', '영양(801)', '영월(121)', '영주(272)',\n",
       "       '영천(281)', '예산(628)', '예천(815)', '오산(550)', '옥천(604)', '완도(170)',\n",
       "       '완주(734)', '용인(549)', '울릉도(115)', '울산(152)', '울진(130)', '원주(114)',\n",
       "       '음성(619)', '의령군(263)', '의성(278)', '의왕(445)', '의정부(532)', '이천(203)',\n",
       "       '익산(702)', '인제(211)', '인천(112)', '임실(244)', '장성(730)', '장수(248)',\n",
       "       '장흥(260)', '전주(146)', '정선군(217)', '정읍(245)', '제주(184)', '제천(221)',\n",
       "       '증평(623)', '진도군ASOS(268)', '진안(703)', '진주(192)', '진천(602)',\n",
       "       '창녕(919)', '창원(155)', '천안(232)', '철원(95)', '청도(813)', '청송군(276)',\n",
       "       '청양(618)', '청주(131)', '추풍령(135)', '충주(127)', '칠곡(825)', '태백(216)',\n",
       "       '태안(627)', '통영(162)', '파주(99)', '평창(526)', '평택(551)', '포천(504)',\n",
       "       '포항(138)', '하남(444)', '하동(932)', '함안(920)', '함양군(264)', '함평(754)',\n",
       "       '합천(285)', '해남(261)', '홍북(608)', '홍천(212)', '화성(571)', '화순(741)',\n",
       "       '화천(555)', '횡성(536)', '흑산도(169)'], dtype=object)"
      ]
     },
     "execution_count": 5,
     "metadata": {},
     "output_type": "execute_result"
    }
   ],
   "source": [
    "raw_df[place].sort_values().unique()"
   ]
  },
  {
   "cell_type": "code",
   "execution_count": 6,
   "metadata": {},
   "outputs": [],
   "source": [
    "def fill_na_date_base(target_df, direction=\"front\"):\n",
    "    dfs_by_date = []\n",
    "    for date_value in target_df[date_info].unique():\n",
    "        if direction == \"front\":\n",
    "            df_by_date = target_df.loc[target_df[date_info] == date_value, :].ffill()\n",
    "            dfs_by_date.append(df_by_date)\n",
    "        elif direction == \"back\":\n",
    "            df_by_date = target_df.loc[target_df[date_info] == date_value, :].bfill()\n",
    "            dfs_by_date.append(df_by_date)\n",
    "        else:\n",
    "            raise Exception(\"Wrong direction\")\n",
    "\n",
    "    return pd.concat(dfs_by_date)"
   ]
  },
  {
   "cell_type": "code",
   "execution_count": 7,
   "metadata": {},
   "outputs": [
    {
     "data": {
      "text/plain": [
       "일시              0\n",
       "지점              0\n",
       "폭염여부(O/X)       0\n",
       "최고체감온도(°C)    160\n",
       "최고기온(°C)        3\n",
       "평균기온(°C)        4\n",
       "최저기온(°C)        3\n",
       "평균상대습도(%)     156\n",
       "폭염특보(O/X)       0\n",
       "폭염영향예보(단계)      0\n",
       "열대야(O/X)        0\n",
       "자외선지수(단계)       0\n",
       "dtype: int64"
      ]
     },
     "execution_count": 7,
     "metadata": {},
     "output_type": "execute_result"
    }
   ],
   "source": [
    "ffill_df = fill_na_date_base(le_df)\n",
    "ffill_df.isna().sum()"
   ]
  },
  {
   "cell_type": "code",
   "execution_count": 8,
   "metadata": {},
   "outputs": [
    {
     "data": {
      "text/plain": [
       "일시            0\n",
       "지점            0\n",
       "폭염여부(O/X)     0\n",
       "최고체감온도(°C)    0\n",
       "최고기온(°C)      0\n",
       "평균기온(°C)      0\n",
       "최저기온(°C)      0\n",
       "평균상대습도(%)     0\n",
       "폭염특보(O/X)     0\n",
       "폭염영향예보(단계)    0\n",
       "열대야(O/X)      0\n",
       "자외선지수(단계)     0\n",
       "dtype: int64"
      ]
     },
     "execution_count": 8,
     "metadata": {},
     "output_type": "execute_result"
    }
   ],
   "source": [
    "result_df = fill_na_date_base(ffill_df, \"back\")\n",
    "result_df.isna().sum()"
   ]
  },
  {
   "cell_type": "code",
   "execution_count": 10,
   "metadata": {},
   "outputs": [
    {
     "name": "stdout",
     "output_type": "stream",
     "text": [
      "<class 'pandas.core.frame.DataFrame'>\n",
      "Index: 123930 entries, 0 to 123929\n",
      "Data columns (total 12 columns):\n",
      " #   Column      Non-Null Count   Dtype         \n",
      "---  ------      --------------   -----         \n",
      " 0   일시          123930 non-null  datetime64[ns]\n",
      " 1   지점          123930 non-null  int64         \n",
      " 2   폭염여부(O/X)   123930 non-null  float64       \n",
      " 3   최고체감온도(°C)  123930 non-null  float64       \n",
      " 4   최고기온(°C)    123930 non-null  float64       \n",
      " 5   평균기온(°C)    123930 non-null  float64       \n",
      " 6   최저기온(°C)    123930 non-null  float64       \n",
      " 7   평균상대습도(%)   123930 non-null  float64       \n",
      " 8   폭염특보(O/X)   123930 non-null  float64       \n",
      " 9   폭염영향예보(단계)  123930 non-null  float64       \n",
      " 10  열대야(O/X)    123930 non-null  float64       \n",
      " 11  자외선지수(단계)   123930 non-null  float64       \n",
      "dtypes: datetime64[ns](1), float64(10), int64(1)\n",
      "memory usage: 12.3 MB\n"
     ]
    }
   ],
   "source": [
    "result_df.info()"
   ]
  },
  {
   "cell_type": "code",
   "execution_count": 9,
   "metadata": {},
   "outputs": [],
   "source": [
    "result_df.to_csv(\"../data/prep_heat.csv\", index=False)"
   ]
  }
 ],
 "metadata": {
  "kernelspec": {
   "display_name": "pred-post-cnt-zTC8SQ8e",
   "language": "python",
   "name": "python3"
  },
  "language_info": {
   "codemirror_mode": {
    "name": "ipython",
    "version": 3
   },
   "file_extension": ".py",
   "mimetype": "text/x-python",
   "name": "python",
   "nbconvert_exporter": "python",
   "pygments_lexer": "ipython3",
   "version": "3.11.3"
  },
  "orig_nbformat": 4
 },
 "nbformat": 4,
 "nbformat_minor": 2
}
